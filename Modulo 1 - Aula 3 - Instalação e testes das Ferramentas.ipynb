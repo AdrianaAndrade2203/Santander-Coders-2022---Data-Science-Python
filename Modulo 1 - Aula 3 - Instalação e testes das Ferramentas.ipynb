{
 "cells": [
  {
   "cell_type": "code",
   "execution_count": 1,
   "metadata": {},
   "outputs": [
    {
     "name": "stdout",
     "output_type": "stream",
     "text": [
      "Hello Word!\n"
     ]
    }
   ],
   "source": [
    "# Santander Coders 2022 - Data Science\n",
    "# Modulo 1 - Python Basics\n",
    "# Aula 3 - Instalação e testes das Ferramentas\n",
    "\n",
    "print('Hello Word!')\n"
   ]
  }
 ],
 "metadata": {
  "kernelspec": {
   "display_name": "Python 3.10.7 64-bit",
   "language": "python",
   "name": "python3"
  },
  "language_info": {
   "codemirror_mode": {
    "name": "ipython",
    "version": 3
   },
   "file_extension": ".py",
   "mimetype": "text/x-python",
   "name": "python",
   "nbconvert_exporter": "python",
   "pygments_lexer": "ipython3",
   "version": "3.10.7"
  },
  "orig_nbformat": 4,
  "vscode": {
   "interpreter": {
    "hash": "6e20ca99c5be7e584860d14d3203ab8085f73643100f6a659589a91e0590ad74"
   }
  }
 },
 "nbformat": 4,
 "nbformat_minor": 2
}
