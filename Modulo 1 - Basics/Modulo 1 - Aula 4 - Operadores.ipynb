{
 "cells": [
  {
   "cell_type": "code",
   "execution_count": 2,
   "metadata": {},
   "outputs": [],
   "source": [
    "x = 50\n",
    "y = 2"
   ]
  },
  {
   "cell_type": "code",
   "execution_count": 8,
   "metadata": {},
   "outputs": [
    {
     "name": "stdout",
     "output_type": "stream",
     "text": [
      "<class 'int'> 52\n",
      "<class 'int'> 48\n",
      "<class 'int'> 100\n",
      "<class 'float'> 25.0\n"
     ]
    }
   ],
   "source": [
    "print (type(x + y),(x + y))\n",
    "print (type(x - y),(x - y))\n",
    "print (type(x * y),(x * y))\n",
    "print (type(x / y),(x / y))\n",
    "\n",
    "# Na divisão entre dois numeros inteiros, a saida sempre será um float\n"
   ]
  },
  {
   "cell_type": "code",
   "execution_count": 9,
   "metadata": {},
   "outputs": [
    {
     "name": "stdout",
     "output_type": "stream",
     "text": [
      "<class 'int'> 2500\n",
      "<class 'int'> 25\n",
      "<class 'int'> 0\n"
     ]
    }
   ],
   "source": [
    "print (type(x ** y),(x ** y))  # Exponecial\n",
    "print (type(x // y),(x // y))  # Divisão com resultado de inteiros\n",
    "print (type(x % y),(x % y))    # Resultado do resto da divisão\n"
   ]
  },
  {
   "cell_type": "code",
   "execution_count": 10,
   "metadata": {},
   "outputs": [
    {
     "name": "stdout",
     "output_type": "stream",
     "text": [
      "<class 'int'> 0\n"
     ]
    }
   ],
   "source": [
    "print (type(3 // 4),(3 // 4)) \n",
    "\n",
    "# Neste exemplo, a divisão com operador // permite um resultado em inteiros.  Porem, isso irá fazer o resultado\n",
    "# sofrer arredondamento.  3 / 4, seria 0.75, porem como foi arredondado resultou em 0."
   ]
  },
  {
   "cell_type": "code",
   "execution_count": null,
   "metadata": {},
   "outputs": [],
   "source": []
  }
 ],
 "metadata": {
  "kernelspec": {
   "display_name": "Python 3.10.7 64-bit",
   "language": "python",
   "name": "python3"
  },
  "language_info": {
   "codemirror_mode": {
    "name": "ipython",
    "version": 3
   },
   "file_extension": ".py",
   "mimetype": "text/x-python",
   "name": "python",
   "nbconvert_exporter": "python",
   "pygments_lexer": "ipython3",
   "version": "3.10.7"
  },
  "orig_nbformat": 4,
  "vscode": {
   "interpreter": {
    "hash": "6e20ca99c5be7e584860d14d3203ab8085f73643100f6a659589a91e0590ad74"
   }
  }
 },
 "nbformat": 4,
 "nbformat_minor": 2
}
