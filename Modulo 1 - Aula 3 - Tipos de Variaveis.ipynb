{
 "cells": [
  {
   "cell_type": "code",
   "execution_count": 7,
   "metadata": {},
   "outputs": [
    {
     "name": "stdout",
     "output_type": "stream",
     "text": [
      "5\n",
      "<class 'int'>\n"
     ]
    }
   ],
   "source": [
    "# Santander Coders 2022 - Data Science\n",
    "# Modulo 1 - Python Basics\n",
    "# Aula 3 - Tipos de Variaveis\n",
    "\n",
    "#Variavel do tipo inteiro\n",
    "\n",
    "x = 5\n",
    "print(x)\n",
    "print(type(x))"
   ]
  },
  {
   "cell_type": "code",
   "execution_count": 6,
   "metadata": {},
   "outputs": [
    {
     "name": "stdout",
     "output_type": "stream",
     "text": [
      "19.99 <class 'float'>\n"
     ]
    }
   ],
   "source": [
    "#Variavel do tipo float\n",
    "\n",
    "preco = 19.99\n",
    "print(preco, type(preco))"
   ]
  },
  {
   "cell_type": "code",
   "execution_count": 10,
   "metadata": {},
   "outputs": [
    {
     "name": "stdout",
     "output_type": "stream",
     "text": [
      "São Paulo <class 'str'> Guaruja <class 'str'>\n"
     ]
    }
   ],
   "source": [
    "#Variavel do tipo String\n",
    "#Neste caso de declaração de variaveis tipo String, tanto aspas duplas ou simples são aceitos.\n",
    "\n",
    "cidade = \"São Paulo\"\n",
    "cidade2 = 'Guaruja'\n",
    "print (cidade, type(cidade), cidade2, type(cidade2))"
   ]
  },
  {
   "cell_type": "code",
   "execution_count": 1,
   "metadata": {},
   "outputs": [
    {
     "name": "stdout",
     "output_type": "stream",
     "text": [
      "True <class 'bool'>\n"
     ]
    }
   ],
   "source": [
    "#Variavel do tipo Boolean\n",
    "\n",
    "disponivel = True\n",
    "print(disponivel, type(disponivel))\n"
   ]
  },
  {
   "cell_type": "code",
   "execution_count": 14,
   "metadata": {},
   "outputs": [
    {
     "name": "stdout",
     "output_type": "stream",
     "text": [
      "False <class 'bool'>\n"
     ]
    }
   ],
   "source": [
    "#Variavel do tipo Boolean\n",
    "\n",
    "disponivel = False\n",
    "print(disponivel, type(disponivel))"
   ]
  }
 ],
 "metadata": {
  "kernelspec": {
   "display_name": "Python 3.10.7 64-bit",
   "language": "python",
   "name": "python3"
  },
  "language_info": {
   "codemirror_mode": {
    "name": "ipython",
    "version": 3
   },
   "file_extension": ".py",
   "mimetype": "text/x-python",
   "name": "python",
   "nbconvert_exporter": "python",
   "pygments_lexer": "ipython3",
   "version": "3.10.7"
  },
  "orig_nbformat": 4,
  "vscode": {
   "interpreter": {
    "hash": "6e20ca99c5be7e584860d14d3203ab8085f73643100f6a659589a91e0590ad74"
   }
  }
 },
 "nbformat": 4,
 "nbformat_minor": 2
}
